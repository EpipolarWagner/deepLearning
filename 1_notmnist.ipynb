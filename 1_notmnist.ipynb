{
 "cells": [
  {
   "cell_type": "markdown",
   "metadata": {
    "colab_type": "text",
    "deletable": true,
    "editable": true,
    "id": "5hIbr52I7Z7U"
   },
   "source": [
    "Deep Learning\n",
    "=============\n",
    "\n",
    "Assignment 1\n",
    "------------\n",
    "\n",
    "The objective of this assignment is to learn about simple data curation practices, and familiarize you with some of the data we'll be reusing later.\n",
    "\n",
    "This notebook uses the [notMNIST](http://yaroslavvb.blogspot.com/2011/09/notmnist-dataset.html) dataset to be used with python experiments. This dataset is designed to look like the classic [MNIST](http://yann.lecun.com/exdb/mnist/) dataset, while looking a little more like real data: it's a harder task, and the data is a lot less 'clean' than MNIST."
   ]
  },
  {
   "cell_type": "code",
   "execution_count": 28,
   "metadata": {
    "cellView": "both",
    "colab": {
     "autoexec": {
      "startup": false,
      "wait_interval": 0
     }
    },
    "colab_type": "code",
    "collapsed": false,
    "deletable": true,
    "editable": true,
    "id": "apJbCsBHl-2A"
   },
   "outputs": [],
   "source": [
    "# These are all the modules we'll be using later. Make sure you can import them\n",
    "# before proceeding further.\n",
    "2+2\n",
    "from __future__ import print_function\n",
    "import matplotlib.pyplot as plt\n",
    "import numpy as np\n",
    "import os\n",
    "import sys\n",
    "import tarfile\n",
    "from IPython.display import display, Image\n",
    "from scipy import ndimage\n",
    "from sklearn.linear_model import LogisticRegression\n",
    "from six.moves.urllib.request import urlretrieve\n",
    "from six.moves import cPickle as pickle\n",
    "\n",
    "# Config the matplotlib backend as plotting inline in IPython\n",
    "%matplotlib inline"
   ]
  },
  {
   "cell_type": "markdown",
   "metadata": {
    "colab_type": "text",
    "deletable": true,
    "editable": true,
    "id": "jNWGtZaXn-5j"
   },
   "source": [
    "First, we'll download the dataset to our local machine. The data consists of characters rendered in a variety of fonts on a 28x28 image. The labels are limited to 'A' through 'J' (10 classes). The training set has about 500k and the testset 19000 labelled examples. Given these sizes, it should be possible to train models quickly on any machine."
   ]
  },
  {
   "cell_type": "code",
   "execution_count": 0,
   "metadata": {
    "cellView": "both",
    "colab": {
     "autoexec": {
      "startup": false,
      "wait_interval": 0
     },
     "output_extras": [
      {
       "item_id": 1
      }
     ]
    },
    "colab_type": "code",
    "collapsed": false,
    "deletable": true,
    "editable": true,
    "executionInfo": {
     "elapsed": 186058,
     "status": "ok",
     "timestamp": 1444485672507,
     "user": {
      "color": "#1FA15D",
      "displayName": "Vincent Vanhoucke",
      "isAnonymous": false,
      "isMe": true,
      "permissionId": "05076109866853157986",
      "photoUrl": "//lh6.googleusercontent.com/-cCJa7dTDcgQ/AAAAAAAAAAI/AAAAAAAACgw/r2EZ_8oYer4/s50-c-k-no/photo.jpg",
      "sessionId": "2a0a5e044bb03b66",
      "userId": "102167687554210253930"
     },
     "user_tz": 420
    },
    "id": "EYRJ4ICW6-da",
    "outputId": "0d0f85df-155f-4a89-8e7e-ee32df36ec8d"
   },
   "outputs": [
    {
     "name": "stdout",
     "output_type": "stream",
     "text": [
      "Found and verified notMNIST_large.tar.gz\n",
      "Found and verified notMNIST_small.tar.gz\n"
     ]
    }
   ],
   "source": [
    "url = 'http://commondatastorage.googleapis.com/books1000/'\n",
    "last_percent_reported = None\n",
    "data_root = '.' # Change me to store data elsewhere\n",
    "\n",
    "def download_progress_hook(count, blockSize, totalSize):\n",
    "  \"\"\"A hook to report the progress of a download. This is mostly intended for users with\n",
    "  slow internet connections. Reports every 5% change in download progress.\n",
    "  \"\"\"\n",
    "  global last_percent_reported\n",
    "  percent = int(count * blockSize * 100 / totalSize)\n",
    "\n",
    "  if last_percent_reported != percent:\n",
    "    if percent % 5 == 0:\n",
    "      sys.stdout.write(\"%s%%\" % percent)\n",
    "      sys.stdout.flush()\n",
    "    else:\n",
    "      sys.stdout.write(\".\")\n",
    "      sys.stdout.flush()\n",
    "      \n",
    "    last_percent_reported = percent\n",
    "        \n",
    "def maybe_download(filename, expected_bytes, force=False):\n",
    "  \"\"\"Download a file if not present, and make sure it's the right size.\"\"\"\n",
    "  dest_filename = os.path.join(data_root, filename)\n",
    "  if force or not os.path.exists(dest_filename):\n",
    "    print('Attempting to download:', filename) \n",
    "    filename, _ = urlretrieve(url + filename, dest_filename, reporthook=download_progress_hook)\n",
    "    print('\\nDownload Complete!')\n",
    "  statinfo = os.stat(dest_filename)\n",
    "  if statinfo.st_size == expected_bytes:\n",
    "    print('Found and verified', dest_filename)\n",
    "  else:\n",
    "    raise Exception(\n",
    "      'Failed to verify ' + dest_filename + '. Can you get to it with a browser?')\n",
    "  return dest_filename\n",
    "\n",
    "train_filename = maybe_download('notMNIST_large.tar.gz', 247336696)\n",
    "test_filename = maybe_download('notMNIST_small.tar.gz', 8458043)"
   ]
  },
  {
   "cell_type": "markdown",
   "metadata": {
    "colab_type": "text",
    "deletable": true,
    "editable": true,
    "id": "cC3p0oEyF8QT"
   },
   "source": [
    "Extract the dataset from the compressed .tar.gz file.\n",
    "This should give you a set of directories, labelled A through J."
   ]
  },
  {
   "cell_type": "code",
   "execution_count": 0,
   "metadata": {
    "cellView": "both",
    "colab": {
     "autoexec": {
      "startup": false,
      "wait_interval": 0
     },
     "output_extras": [
      {
       "item_id": 1
      }
     ]
    },
    "colab_type": "code",
    "collapsed": false,
    "deletable": true,
    "editable": true,
    "executionInfo": {
     "elapsed": 186055,
     "status": "ok",
     "timestamp": 1444485672525,
     "user": {
      "color": "#1FA15D",
      "displayName": "Vincent Vanhoucke",
      "isAnonymous": false,
      "isMe": true,
      "permissionId": "05076109866853157986",
      "photoUrl": "//lh6.googleusercontent.com/-cCJa7dTDcgQ/AAAAAAAAAAI/AAAAAAAACgw/r2EZ_8oYer4/s50-c-k-no/photo.jpg",
      "sessionId": "2a0a5e044bb03b66",
      "userId": "102167687554210253930"
     },
     "user_tz": 420
    },
    "id": "H8CBE-WZ8nmj",
    "outputId": "ef6c790c-2513-4b09-962e-27c79390c762",
    "scrolled": true
   },
   "outputs": [
    {
     "name": "stdout",
     "output_type": "stream",
     "text": [
      "['notMNIST_large/A', 'notMNIST_large/B', 'notMNIST_large/C', 'notMNIST_large/D', 'notMNIST_large/E', 'notMNIST_large/F', 'notMNIST_large/G', 'notMNIST_large/H', 'notMNIST_large/I', 'notMNIST_large/J']\n",
      "['notMNIST_small/A', 'notMNIST_small/B', 'notMNIST_small/C', 'notMNIST_small/D', 'notMNIST_small/E', 'notMNIST_small/F', 'notMNIST_small/G', 'notMNIST_small/H', 'notMNIST_small/I', 'notMNIST_small/J']\n"
     ]
    }
   ],
   "source": [
    "num_classes = 10\n",
    "np.random.seed(133)\n",
    "\n",
    "def maybe_extract(filename, force=False):\n",
    "  root = os.path.splitext(os.path.splitext(filename)[0])[0]  # remove .tar.gz\n",
    "  if os.path.isdir(root) and not force:\n",
    "    # You may override by setting force=True.\n",
    "    print('%s already present - Skipping extraction of %s.' % (root, filename))\n",
    "  else:\n",
    "    print('Extracting data for %s. This may take a while. Please wait.' % root)\n",
    "    tar = tarfile.open(filename)\n",
    "    sys.stdout.flush()\n",
    "    tar.extractall(data_root)\n",
    "    tar.close()\n",
    "  data_folders = [\n",
    "    os.path.join(root, d) for d in sorted(os.listdir(root))\n",
    "    if os.path.isdir(os.path.join(root, d))]\n",
    "  if len(data_folders) != num_classes:\n",
    "    raise Exception(\n",
    "      'Expected %d folders, one per class. Found %d instead.' % (\n",
    "        num_classes, len(data_folders)))\n",
    "  print(data_folders)\n",
    "  return data_folders\n",
    "  \n",
    "train_folders = ['notMNIST_large/A', 'notMNIST_large/B', 'notMNIST_large/C', 'notMNIST_large/D', 'notMNIST_large/E', 'notMNIST_large/F', 'notMNIST_large/G', 'notMNIST_large/H', 'notMNIST_large/I', 'notMNIST_large/J']\n",
    "test_folders = ['notMNIST_small/A', 'notMNIST_small/B', 'notMNIST_small/C', 'notMNIST_small/D', 'notMNIST_small/E', 'notMNIST_small/F', 'notMNIST_small/G', 'notMNIST_small/H', 'notMNIST_small/I', 'notMNIST_small/J']"
   ]
  },
  {
   "cell_type": "markdown",
   "metadata": {
    "colab_type": "text",
    "deletable": true,
    "editable": true,
    "id": "4riXK3IoHgx6"
   },
   "source": [
    "---\n",
    "Problem 1\n",
    "---------\n",
    "\n",
    "Let's take a peek at some of the data to make sure it looks sensible. Each exemplar should be an image of a character A through J rendered in a different font. Display a sample of the images that we just downloaded. Hint: you can use the package IPython.display.\n",
    "\n",
    "---"
   ]
  },
  {
   "cell_type": "markdown",
   "metadata": {
    "colab_type": "text",
    "deletable": true,
    "editable": true,
    "id": "PBdkjESPK8tw"
   },
   "source": [
    "Now let's load the data in a more manageable format. Since, depending on your computer setup you might not be able to fit it all in memory, we'll load each class into a separate dataset, store them on disk and curate them independently. Later we'll merge them into a single dataset of manageable size.\n",
    "\n",
    "We'll convert the entire dataset into a 3D array (image index, x, y) of floating point values, normalized to have approximately zero mean and standard deviation ~0.5 to make training easier down the road. \n",
    "\n",
    "A few images might not be readable, we'll just skip them."
   ]
  },
  {
   "cell_type": "code",
   "execution_count": 4,
   "metadata": {
    "collapsed": false
   },
   "outputs": [
    {
     "name": "stdout",
     "output_type": "stream",
     "text": [
      "[[ 164.  226.   55.    0.    4.    0.    0.    0.    0.    0.    0.    0.\n",
      "     0.    0.    0.    0.    0.    0.    0.    0.    0.    0.    0.    0.\n",
      "     0.    0.    0.    0.]\n",
      " [ 228.  255.  243.   83.    0.    4.    1.    0.    0.    0.    0.    0.\n",
      "     0.    0.    0.    0.    0.    0.    0.    0.    0.    0.    0.    0.\n",
      "     0.    0.    0.    0.]\n",
      " [ 242.  255.  254.  255.  111.    0.    3.    1.    0.    0.    0.    0.\n",
      "     0.    0.    0.    0.    0.    0.    0.    0.    0.    0.    0.    0.\n",
      "     0.    0.    0.    0.]\n",
      " [ 253.  255.  254.  252.  255.  137.    0.    2.    2.    0.    0.    0.\n",
      "     0.    0.    0.    0.    0.    0.    0.    0.    0.    0.    0.    0.\n",
      "     0.    0.    0.    0.]\n",
      " [ 253.  255.  255.  254.  251.  255.  162.    5.    1.    2.    0.    0.\n",
      "     0.    0.    0.    0.    0.    0.    0.    0.    0.    0.    0.    0.\n",
      "     0.    0.    0.    0.]\n",
      " [ 247.  255.  255.  255.  253.  249.  255.  176.    9.    0.    2.    0.\n",
      "     0.    0.    0.    0.    0.    0.    0.    0.    0.    0.    0.    0.\n",
      "     0.    0.    0.    0.]\n",
      " [ 241.  255.  255.  255.  255.  254.  249.  255.  177.    7.    0.    1.\n",
      "     0.    0.    0.    0.    0.    0.    0.    0.    0.    0.    0.    0.\n",
      "     0.    0.    0.    0.]\n",
      " [ 237.  255.  254.  255.  227.  230.  255.  248.  255.  172.    3.    1.\n",
      "     1.    0.    0.    0.    0.    0.    0.    0.    0.    0.    0.    0.\n",
      "     0.    0.    0.    0.]\n",
      " [ 234.  255.  252.  255.  185.   47.  231.  255.  248.  255.  163.    0.\n",
      "     2.    1.    0.    0.    0.    0.    0.    0.    0.    0.    0.    0.\n",
      "     0.    0.    0.    0.]\n",
      " [ 229.  255.  252.  255.  202.    0.   43.  225.  255.  248.  255.  151.\n",
      "     0.    3.    1.    0.    0.    0.    0.    0.    0.    0.    0.    0.\n",
      "     0.    0.    0.    0.]\n",
      " [ 221.  255.  251.  255.  203.    0.    0.   42.  228.  255.  249.  255.\n",
      "   141.    0.    3.    1.    0.    0.    0.    0.    0.    0.    0.    0.\n",
      "     0.    0.    0.    0.]\n",
      " [ 208.  255.  251.  255.  209.    0.    5.    0.   48.  236.  255.  250.\n",
      "   255.  133.    0.    3.    1.    0.    0.    0.    0.    0.    0.    0.\n",
      "     0.    0.    0.    0.]\n",
      " [ 194.  255.  251.  255.  215.    0.    0.    3.    0.   63.  246.  255.\n",
      "   251.  255.  127.    0.    3.    1.    0.    0.    0.    0.    0.    0.\n",
      "     0.    0.    0.    0.]\n",
      " [ 181.  255.  251.  255.  222.   13.   14.   13.   17.    0.   90.  255.\n",
      "   254.  251.  255.  122.    0.    3.    1.    0.    0.    0.    0.    0.\n",
      "     0.    0.    0.    0.]\n",
      " [ 171.  255.  252.  255.  253.  240.  239.  237.  233.  229.  198.  237.\n",
      "   255.  254.  252.  255.  118.    0.    4.    0.    0.    0.    0.    0.\n",
      "     0.    0.    0.    0.]\n",
      " [ 163.  255.  252.  255.  255.  255.  255.  255.  255.  255.  255.  255.\n",
      "   255.  255.  254.  253.  255.  113.    0.    4.    0.    0.    0.    0.\n",
      "     0.    0.    0.    0.]\n",
      " [ 158.  255.  252.  255.  255.  254.  252.  251.  251.  251.  250.  251.\n",
      "   252.  251.  253.  254.  252.  255.  108.    0.    4.    0.    0.    0.\n",
      "     0.    0.    0.    0.]\n",
      " [ 155.  255.  252.  255.  255.  255.  255.  255.  255.  255.  255.  255.\n",
      "   255.  255.  254.  254.  254.  253.  255.  103.    0.    4.    0.    0.\n",
      "     0.    0.    0.    0.]\n",
      " [ 153.  255.  252.  255.  254.  255.  175.  178.  210.  203.  187.  167.\n",
      "   141.  102.  209.  255.  253.  254.  253.  255.   96.    0.    4.    0.\n",
      "     0.    0.    0.    0.]\n",
      " [ 151.  255.  252.  255.  252.  255.  132.    0.    4.    0.    0.    0.\n",
      "     2.    0.   54.  247.  255.  254.  254.  253.  255.   87.    0.    4.\n",
      "     0.    0.    0.    0.]\n",
      " [ 151.  255.  251.  255.  252.  255.  177.    0.    5.    2.    2.    2.\n",
      "     3.    7.    0.  107.  255.  252.  255.  253.  255.  250.   73.    0.\n",
      "     4.    0.    0.    0.]\n",
      " [ 149.  255.  252.  255.  253.  255.  205.    4.    0.    1.    0.    0.\n",
      "     0.    0.    3.    0.  160.  255.  252.  255.  253.  255.  241.   54.\n",
      "     0.    3.    0.    0.]\n",
      " [ 148.  255.  252.  255.  254.  255.  237.   23.    0.    1.    0.    0.\n",
      "     0.    0.    1.    0.   14.  209.  255.  253.  255.  253.  255.  227.\n",
      "    35.    0.    3.    0.]\n",
      " [ 143.  255.  252.  255.  255.  255.  255.   47.    0.    2.    0.    0.\n",
      "     0.    0.    0.    2.    0.   51.  243.  255.  254.  255.  252.  255.\n",
      "   208.   18.    0.    2.]\n",
      " [ 139.  255.  252.  255.  255.  253.  255.   87.    0.    3.    0.    0.\n",
      "     0.    0.    0.    0.    4.    0.   98.  255.  252.  255.  255.  251.\n",
      "   255.  185.    5.    0.]\n",
      " [ 131.  255.  250.  252.  252.  249.  255.  129.    0.    4.    0.    0.\n",
      "     0.    0.    0.    0.    0.    3.    0.  149.  255.  249.  252.  253.\n",
      "   250.  255.  155.    0.]\n",
      " [ 121.  255.  253.  255.  255.  252.  255.  178.    0.    2.    0.    0.\n",
      "     0.    0.    0.    0.    0.    1.    0.    8.  194.  255.  253.  255.\n",
      "   255.  254.  255.  133.]\n",
      " [ 107.  239.  197.  169.  142.  124.  111.   77.    1.    0.    0.    0.\n",
      "     0.    0.    0.    0.    0.    0.    2.    0.   39.  155.  141.  122.\n",
      "   100.   79.   56.   42.]]\n",
      "\n",
      "\n",
      "[[   0.    0.    0.    0.    0.    0.    0.    0.    0.    0.    0.    0.\n",
      "     2.    3.    0.    0.   12.   78.  161.  209.  242.  255.  255.  250.\n",
      "   236.  161.    0.    0.]\n",
      " [   0.    0.    0.    0.    0.    0.    0.    0.    0.    0.    1.    3.\n",
      "     1.    0.   33.  141.  220.  203.  145.  101.   93.  126.  191.  245.\n",
      "   255.  166.    0.    0.]\n",
      " [   0.    0.    0.    0.    0.    0.    0.    0.    1.    3.    2.    0.\n",
      "    23.  161.  246.  182.   63.    1.    0.    0.    0.    0.    0.   35.\n",
      "    39.    1.    0.    0.]\n",
      " [   0.    0.    0.    0.    0.    0.    0.    2.    3.    0.    9.  123.\n",
      "   252.  206.   57.    0.    1.    1.    3.    4.    4.    3.    1.    0.\n",
      "     0.    1.    0.    0.]\n",
      " [   0.    0.    0.    0.    0.    0.    2.    1.    0.   64.  218.  255.\n",
      "   107.    1.    0.    2.    3.    0.    0.    0.    0.    0.    0.    2.\n",
      "     2.    4.    3.    0.]\n",
      " [   0.    0.    0.    0.    0.    3.    0.   13.  146.  255.  208.   36.\n",
      "     0.    3.    3.    0.    0.    0.    0.    0.    0.    0.    0.    0.\n",
      "     0.    0.    0.    0.]\n",
      " [   0.    0.    0.    0.    2.    0.   58.  214.  255.  174.   11.    0.\n",
      "     4.    0.    0.    0.    0.    0.    0.    0.    0.    0.    1.    0.\n",
      "    12.  137.   91.    0.]\n",
      " [   0.    0.    0.    2.    0.   96.  244.  255.  196.   10.    0.    3.\n",
      "     0.    0.    0.    0.    0.    0.    0.    0.    0.    0.    5.    0.\n",
      "   105.  255.  211.   27.]\n",
      " [   0.    0.    1.    0.   10.  201.  255.  253.   72.    0.    5.    0.\n",
      "     0.    0.    0.    0.    0.    0.    0.    0.    0.    1.    0.    3.\n",
      "   178.  255.  224.   43.]\n",
      " [   0.    3.    0.   61.  200.  234.  233.   73.    0.    1.    0.    0.\n",
      "     0.    0.    0.    0.    0.    0.    0.    0.    0.    2.    0.   40.\n",
      "   243.  255.  215.   29.]\n",
      " [   0.    2.    0.  155.  255.  255.  192.    1.    0.    0.    0.    0.\n",
      "     0.    0.    0.    0.    0.    0.    0.    0.    0.    2.    0.   40.\n",
      "   250.  254.  119.    0.]\n",
      " [   1.    0.   14.  196.  255.  216.   28.    0.    2.    0.    0.    0.\n",
      "     0.    0.    0.    0.    0.    0.    0.    0.    0.    2.    0.   86.\n",
      "   255.  247.  120.    0.]\n",
      " [   2.    0.   39.  252.  248.   63.    0.    2.    0.    0.    0.    0.\n",
      "     0.    0.    0.    0.    0.    0.    0.    0.    0.    2.    0.  174.\n",
      "   255.  255.  193.    9.]\n",
      " [   2.    0.   97.  255.  109.    0.    3.    0.    0.    0.    0.    0.\n",
      "     0.    0.    0.    0.    0.    0.    0.    0.    2.    0.   42.  236.\n",
      "   254.  255.  162.    0.]\n",
      " [   1.    0.  198.  211.   14.    0.    1.    0.    0.    0.    0.    0.\n",
      "     0.    0.    0.    0.    0.    0.    0.    1.    2.    0.  166.  255.\n",
      "   249.  255.  125.    0.]\n",
      " [   0.   33.  248.  103.    0.    4.    0.    0.    0.    0.    0.    0.\n",
      "     0.    0.    0.    0.    0.    0.    0.    3.    0.   75.  255.  253.\n",
      "   255.  251.   70.    0.]\n",
      " [   0.  128.  236.   20.    0.    1.    0.    0.    0.    0.    0.    0.\n",
      "     0.    0.    0.    0.    0.    0.    1.    0.   11.  211.  255.  252.\n",
      "   255.  234.   16.    0.]\n",
      " [   1.  195.  196.    0.    3.    0.    0.    0.    0.    0.    0.    0.\n",
      "     0.    0.    0.    0.    0.    0.    2.    0.  149.  255.  252.  248.\n",
      "   255.  198.    0.    1.]\n",
      " [  52.  253.  128.    0.    2.    0.    0.    0.    0.    0.    0.    0.\n",
      "     0.    0.    0.    0.    0.    1.    0.   13.  201.  255.  249.  158.\n",
      "   255.  149.    0.    1.]\n",
      " [ 107.  255.  100.    0.    2.    0.    0.    0.    0.    0.    0.    0.\n",
      "     0.    0.    0.    0.    1.    0.   10.  143.  209.  219.   84.   68.\n",
      "   255.  120.    0.    2.]\n",
      " [ 173.  255.   81.    0.    2.    0.    0.    0.    0.    0.    0.    0.\n",
      "     0.    0.    0.    0.    2.    0.   71.  255.  255.  239.   39.   83.\n",
      "   255.  119.    0.    2.]\n",
      " [ 218.  255.   84.    0.    2.    0.    0.    0.    0.    0.    0.    0.\n",
      "     0.    0.    0.    2.    4.    0.  177.  255.  255.  114.    0.  114.\n",
      "   255.  129.    0.    2.]\n",
      " [ 246.  255.  124.    0.    2.    0.    0.    0.    0.    0.    0.    0.\n",
      "     0.    1.    4.    3.    0.  121.  255.  255.  121.    0.    0.  127.\n",
      "   255.  152.    0.    1.]\n",
      " [ 241.  255.  228.   38.    0.    4.    0.    0.    0.    0.    0.    2.\n",
      "     3.    1.    0.    9.  148.  255.  240.   95.    0.    4.    0.  130.\n",
      "   255.  195.    0.    2.]\n",
      " [ 177.  255.  242.  116.    0.    2.    2.    3.    3.    3.    1.    0.\n",
      "     1.    0.   76.  224.  255.  189.   45.    0.    3.    2.    0.  105.\n",
      "   255.  237.   32.    0.]\n",
      " [  25.   87.  158.  206.  189.   51.    0.    1.    0.    1.    0.   24.\n",
      "   101.  212.  255.  221.   89.    3.    0.    3.    0.    2.    0.   69.\n",
      "   255.  255.  157.    0.]\n",
      " [   0.   79.  253.  255.  255.  247.  186.  136.  134.  160.  209.  246.\n",
      "   250.  192.   81.    6.    0.    2.    2.    0.    0.    1.    0.   17.\n",
      "   207.  255.  255.   93.]\n",
      " [   1.    7.   80.  162.  205.  241.  255.  254.  246.  216.  168.  106.\n",
      "    28.    0.    0.    1.    3.    0.    0.    0.    0.    0.    2.    0.\n",
      "    70.  145.   77.   12.]]\n",
      "\n",
      "\n",
      "[[   0.    0.    0.    0.    0.    0.    0.    0.    0.    0.    0.    0.\n",
      "     0.    0.    0.    0.    0.    0.    0.    0.    0.    0.    0.    0.\n",
      "     3.    0.   69.  177.]\n",
      " [   0.    0.    0.    0.    0.    0.    0.    0.    0.    0.    0.    0.\n",
      "     0.    0.    0.    0.    0.    0.    0.    0.    0.    0.    0.    2.\n",
      "     0.   42.  159.  102.]\n",
      " [   0.    0.    0.    0.    0.    0.    0.    0.    0.    0.    0.    0.\n",
      "     0.    0.    0.    0.    0.    0.    0.    0.    0.    0.    2.    0.\n",
      "    34.   97.  113.   15.]\n",
      " [   0.    0.    0.    0.    0.    0.    0.    0.    0.    0.    0.    0.\n",
      "     0.    0.    0.    0.    0.    0.    0.    0.    0.    1.    1.   12.\n",
      "    97.   76.  107.    0.]\n",
      " [   0.    0.    0.    0.    0.    0.    0.    0.    0.    0.    0.    0.\n",
      "     0.    0.    0.    0.    0.    0.    0.    0.    0.    3.    0.   99.\n",
      "    33.  151.   35.    0.]\n",
      " [   0.    0.    0.    0.    0.    0.    0.    0.    0.    0.    0.    0.\n",
      "     1.    4.    4.    2.    0.    0.    0.    0.    2.    0.   57.   67.\n",
      "    65.  169.    0.    3.]\n",
      " [   0.    0.    0.    0.    0.    0.    0.    0.    0.    0.    0.    1.\n",
      "     0.    0.    0.    0.    2.    0.    0.    1.    1.   12.  107.    0.\n",
      "   184.   78.    1.    4.]\n",
      " [   0.    0.    0.    0.    0.    0.    0.    0.    0.    0.    1.    0.\n",
      "    21.  147.  169.   64.    0.    2.    0.    2.    0.   84.   32.   39.\n",
      "   214.    6.    1.    1.]\n",
      " [   0.    0.    0.    0.    0.    1.    0.    0.    0.    1.    2.   16.\n",
      "   222.  233.  149.  183.   92.    0.    3.    0.   29.   84.    0.  159.\n",
      "   150.    0.    4.    0.]\n",
      " [   0.    0.    0.    2.    3.    0.    1.    3.    0.    3.    0.  155.\n",
      "   217.   13.    0.    0.  114.   42.    1.    1.   86.   14.   15.  236.\n",
      "    54.    0.    2.    0.]\n",
      " [   0.    0.    2.    0.    0.    1.    0.    0.    1.    0.   14.  236.\n",
      "    52.    0.    8.    0.    9.  113.    0.   40.   62.    0.  111.  226.\n",
      "     1.    1.    0.    0.]\n",
      " [   0.    2.    0.   30.  157.  225.  212.  113.    0.    1.   66.  204.\n",
      "     0.    2.    0.    3.    0.   76.   47.   64.    8.    0.  210.  147.\n",
      "     0.    4.    0.    0.]\n",
      " [   2.    0.   57.  246.  250.  172.  163.  230.  145.    0.  101.  167.\n",
      "     1.    4.    0.    1.    1.   14.  125.   34.    0.   36.  255.   57.\n",
      "     0.    3.    0.    0.]\n",
      " [   2.   25.  244.  177.   23.    0.    0.    9.  167.   38.   94.  151.\n",
      "     0.    4.    0.    0.    1.    0.  130.   13.    1.  124.  234.    3.\n",
      "     0.    0.    0.    0.]\n",
      " [   0.  183.  190.    0.    0.    4.    5.    0.   29.   91.   88.  144.\n",
      "     0.    4.    0.    2.    0.   38.  100.   24.    0.  218.  162.    0.\n",
      "     4.    0.    0.    0.]\n",
      " [  61.  233.   17.    1.    3.    0.    0.    2.    1.   78.   88.  144.\n",
      "     0.    4.    0.    1.   12.   55.   46.   35.   31.  255.   78.    0.\n",
      "     3.    0.    0.    0.]\n",
      " [ 165.  125.    0.    4.    0.    0.    0.    2.    0.   73.   63.  150.\n",
      "     0.    3.    2.    0.   61.   17.   38.   30.  112.  251.   15.    0.\n",
      "     1.    0.    0.    0.]\n",
      " [ 195.   36.    1.    2.    0.    0.    0.    1.    0.   83.   19.  148.\n",
      "     6.    0.    0.   20.   70.    0.   36.   37.  191.  198.    0.    2.\n",
      "     0.    0.    0.    0.]\n",
      " [ 177.    3.    0.    0.    0.    0.    0.    0.    1.   93.    0.  113.\n",
      "    49.    1.    0.   74.   19.    0.   27.   66.  246.  117.    1.    4.\n",
      "     0.    0.    0.    0.]\n",
      " [ 155.    0.    2.    0.    0.    0.    1.    1.   23.   87.    0.   41.\n",
      "   109.    0.   43.   65.    0.    0.   21.  123.  255.   47.    0.    3.\n",
      "     0.    0.    0.    0.]\n",
      " [ 139.    0.    2.    0.    1.    1.    5.    0.   81.   44.    0.    0.\n",
      "   105.   34.   76.    7.    2.    0.   23.  201.  227.    4.    1.    0.\n",
      "     0.    0.    0.    0.]\n",
      " [ 132.    0.    2.    0.    0.    0.    0.   48.   98.    0.    2.    1.\n",
      "    14.  161.   35.    0.    8.    0.   54.  255.  158.    1.    0.    7.\n",
      "     0.    0.    0.    0.]\n",
      " [ 130.    6.    0.    0.   24.   40.   89.  118.   11.    1.    2.    0.\n",
      "    17.  152.  154.    9.    0.    1.  102.  255.   88.    0.   37.   63.\n",
      "     0.    2.    0.    0.]\n",
      " [ 112.   42.    1.    1.   65.  114.   80.    2.    0.    2.    0.    7.\n",
      "   108.    7.   88.  183.   74.    0.  145.  251.   11.   34.   96.   13.\n",
      "     1.    0.    0.    0.]\n",
      " [  42.  116.    0.    5.    0.    0.    0.    0.    3.    0.    3.  101.\n",
      "    44.    0.    0.   48.  158.  160.  226.  226.   89.   96.   15.    0.\n",
      "     1.    0.    0.    0.]\n",
      " [   0.  100.   82.    0.    0.    3.    2.    0.    0.   19.   98.   43.\n",
      "     0.    2.    3.    0.    0.   42.  250.  163.   34.    0.    0.    1.\n",
      "     0.    0.    0.    0.]\n",
      " [   3.    2.  115.   92.   16.    0.    2.   22.   75.  109.   35.    0.\n",
      "     2.    0.    0.    5.    3.   49.  255.   87.    0.    5.    1.    0.\n",
      "     0.    0.    0.    0.]\n",
      " [   0.    0.    0.   79.  118.  107.  112.  113.   73.    6.    0.    2.\n",
      "     0.    0.    0.    2.    0.   65.  161.   31.    1.    1.    0.    0.\n",
      "     0.    0.    0.    0.]]\n",
      "\n",
      "\n",
      "(3, 28, 28)\n"
     ]
    }
   ],
   "source": [
    "def load_an_folder(folder):\n",
    "    images=os.listdir(folder)\n",
    "    #data_array=np.array(shape=(3,3))\n",
    "    data_array=np.zeros((3,28,28),dtype=np.float32)\n",
    "    counter=0\n",
    "    for image in images[:3]:\n",
    "        #print(ndimage.imread(folder+image))\n",
    "        #print('\\n')\n",
    "        data_array[counter,:,:] = ndimage.imread(folder+image)\n",
    "        # try:\n",
    "            \n",
    "        #     data_array[0,:,:] = ndimage.imread(folder+image)\n",
    "        # except:\n",
    "        #     counter -=counter\n",
    "        counter+=1\n",
    "    print(data_array[0])\n",
    "    print('\\n')\n",
    "    print(data_array[1])\n",
    "    print('\\n')\n",
    "    print(data_array[2])\n",
    "    print('\\n')\n",
    "    print(data_array.shape)\n",
    "\n",
    "load_an_folder('notMNIST_large/A/')  \n",
    "train_folders = ['notMNIST_large/A', 'notMNIST_large/B', 'notMNIST_large/C', 'notMNIST_large/D', 'notMNIST_large/E', 'notMNIST_large/F', 'notMNIST_large/G', 'notMNIST_large/H', 'notMNIST_large/I', 'notMNIST_large/J']\n",
    "test_folders = ['notMNIST_small/A', 'notMNIST_small/B', 'notMNIST_small/C', 'notMNIST_small/D', 'notMNIST_small/E', 'notMNIST_small/F', 'notMNIST_small/G', 'notMNIST_small/H', 'notMNIST_small/I', 'notMNIST_small/J']"
   ]
  },
  {
   "cell_type": "code",
   "execution_count": 5,
   "metadata": {
    "cellView": "both",
    "colab": {
     "autoexec": {
      "startup": false,
      "wait_interval": 0
     },
     "output_extras": [
      {
       "item_id": 30
      }
     ]
    },
    "colab_type": "code",
    "collapsed": false,
    "deletable": true,
    "editable": true,
    "executionInfo": {
     "elapsed": 399874,
     "status": "ok",
     "timestamp": 1444485886378,
     "user": {
      "color": "#1FA15D",
      "displayName": "Vincent Vanhoucke",
      "isAnonymous": false,
      "isMe": true,
      "permissionId": "05076109866853157986",
      "photoUrl": "//lh6.googleusercontent.com/-cCJa7dTDcgQ/AAAAAAAAAAI/AAAAAAAACgw/r2EZ_8oYer4/s50-c-k-no/photo.jpg",
      "sessionId": "2a0a5e044bb03b66",
      "userId": "102167687554210253930"
     },
     "user_tz": 420
    },
    "id": "h7q0XhG3MJdf",
    "outputId": "92c391bb-86ff-431d-9ada-315568a19e59"
   },
   "outputs": [
    {
     "name": "stdout",
     "output_type": "stream",
     "text": [
      "Pickling notMNIST_large/A.pickle.\n",
      "notMNIST_large/A\n",
      "Could not read: notMNIST_large/A/Um9tYW5hIEJvbGQucGZi.png : cannot identify image file 'notMNIST_large/A/Um9tYW5hIEJvbGQucGZi.png' - it's ok, skipping.\n",
      "Could not read: notMNIST_large/A/SG90IE11c3RhcmQgQlROIFBvc3Rlci50dGY=.png : cannot identify image file 'notMNIST_large/A/SG90IE11c3RhcmQgQlROIFBvc3Rlci50dGY=.png' - it's ok, skipping.\n",
      "Could not read: notMNIST_large/A/RnJlaWdodERpc3BCb29rSXRhbGljLnR0Zg==.png : cannot identify image file 'notMNIST_large/A/RnJlaWdodERpc3BCb29rSXRhbGljLnR0Zg==.png' - it's ok, skipping.\n",
      "Full dataset tensor: (52909, 28, 28)\n",
      "Mean: -0.12825\n",
      "Standard deviation: 0.44312\n",
      "Pickling notMNIST_large/B.pickle.\n",
      "notMNIST_large/B\n",
      "Could not read: notMNIST_large/B/TmlraXNFRi1TZW1pQm9sZEl0YWxpYy5vdGY=.png : cannot identify image file 'notMNIST_large/B/TmlraXNFRi1TZW1pQm9sZEl0YWxpYy5vdGY=.png' - it's ok, skipping.\n",
      "Full dataset tensor: (52911, 28, 28)\n",
      "Mean: -0.00756304\n",
      "Standard deviation: 0.454491\n",
      "Pickling notMNIST_large/C.pickle.\n",
      "notMNIST_large/C\n",
      "Full dataset tensor: (52912, 28, 28)\n",
      "Mean: -0.142258\n",
      "Standard deviation: 0.439806\n",
      "Pickling notMNIST_large/D.pickle.\n",
      "notMNIST_large/D\n",
      "Could not read: notMNIST_large/D/VHJhbnNpdCBCb2xkLnR0Zg==.png : cannot identify image file 'notMNIST_large/D/VHJhbnNpdCBCb2xkLnR0Zg==.png' - it's ok, skipping.\n",
      "Full dataset tensor: (52911, 28, 28)\n",
      "Mean: -0.0573678\n",
      "Standard deviation: 0.455647\n",
      "Pickling notMNIST_large/E.pickle.\n",
      "notMNIST_large/E\n",
      "Full dataset tensor: (52912, 28, 28)\n",
      "Mean: -0.069899\n",
      "Standard deviation: 0.452941\n",
      "Pickling notMNIST_large/F.pickle.\n",
      "notMNIST_large/F\n",
      "Full dataset tensor: (52912, 28, 28)\n",
      "Mean: -0.125583\n",
      "Standard deviation: 0.447089\n",
      "Pickling notMNIST_large/G.pickle.\n",
      "notMNIST_large/G\n",
      "Full dataset tensor: (52912, 28, 28)\n",
      "Mean: -0.0945814\n",
      "Standard deviation: 0.44624\n",
      "Pickling notMNIST_large/H.pickle.\n",
      "notMNIST_large/H\n",
      "Full dataset tensor: (52912, 28, 28)\n",
      "Mean: -0.0685221\n",
      "Standard deviation: 0.454231\n",
      "Pickling notMNIST_large/I.pickle.\n",
      "notMNIST_large/I\n",
      "Full dataset tensor: (52912, 28, 28)\n",
      "Mean: 0.0307862\n",
      "Standard deviation: 0.468899\n",
      "Pickling notMNIST_large/J.pickle.\n",
      "notMNIST_large/J\n",
      "Full dataset tensor: (52911, 28, 28)\n",
      "Mean: -0.153358\n",
      "Standard deviation: 0.443657\n",
      "Pickling notMNIST_small/A.pickle.\n",
      "notMNIST_small/A\n",
      "Could not read: notMNIST_small/A/RGVtb2NyYXRpY2FCb2xkT2xkc3R5bGUgQm9sZC50dGY=.png : cannot identify image file 'notMNIST_small/A/RGVtb2NyYXRpY2FCb2xkT2xkc3R5bGUgQm9sZC50dGY=.png' - it's ok, skipping.\n",
      "Full dataset tensor: (1872, 28, 28)\n",
      "Mean: -0.132626\n",
      "Standard deviation: 0.445128\n",
      "Pickling notMNIST_small/B.pickle.\n",
      "notMNIST_small/B\n",
      "Full dataset tensor: (1873, 28, 28)\n",
      "Mean: 0.00535608\n",
      "Standard deviation: 0.457115\n",
      "Pickling notMNIST_small/C.pickle.\n",
      "notMNIST_small/C\n",
      "Full dataset tensor: (1873, 28, 28)\n",
      "Mean: -0.141521\n",
      "Standard deviation: 0.44269\n",
      "Pickling notMNIST_small/D.pickle.\n",
      "notMNIST_small/D\n",
      "Full dataset tensor: (1873, 28, 28)\n",
      "Mean: -0.0492167\n",
      "Standard deviation: 0.459759\n",
      "Pickling notMNIST_small/E.pickle.\n",
      "notMNIST_small/E\n",
      "Full dataset tensor: (1873, 28, 28)\n",
      "Mean: -0.0599148\n",
      "Standard deviation: 0.45735\n",
      "Pickling notMNIST_small/F.pickle.\n",
      "notMNIST_small/F\n",
      "Could not read: notMNIST_small/F/Q3Jvc3NvdmVyIEJvbGRPYmxpcXVlLnR0Zg==.png : cannot identify image file 'notMNIST_small/F/Q3Jvc3NvdmVyIEJvbGRPYmxpcXVlLnR0Zg==.png' - it's ok, skipping.\n",
      "Full dataset tensor: (1872, 28, 28)\n",
      "Mean: -0.118185\n",
      "Standard deviation: 0.452279\n",
      "Pickling notMNIST_small/G.pickle.\n",
      "notMNIST_small/G\n",
      "Full dataset tensor: (1872, 28, 28)\n",
      "Mean: -0.0925503\n",
      "Standard deviation: 0.449006\n",
      "Pickling notMNIST_small/H.pickle.\n",
      "notMNIST_small/H\n",
      "Full dataset tensor: (1872, 28, 28)\n",
      "Mean: -0.0586893\n",
      "Standard deviation: 0.458759\n",
      "Pickling notMNIST_small/I.pickle.\n",
      "notMNIST_small/I\n",
      "Full dataset tensor: (1872, 28, 28)\n",
      "Mean: 0.0526451\n",
      "Standard deviation: 0.471893\n",
      "Pickling notMNIST_small/J.pickle.\n",
      "notMNIST_small/J\n",
      "Full dataset tensor: (1872, 28, 28)\n",
      "Mean: -0.151689\n",
      "Standard deviation: 0.448014\n"
     ]
    }
   ],
   "source": [
    "image_size = 28  # Pixel width and height.\n",
    "pixel_depth = 255.0  # Number of levels per pixel.\n",
    "\n",
    "def load_letter(folder, min_num_images):\n",
    "  \"\"\"Load the data for a single letter label.\"\"\"\n",
    "  image_files = os.listdir(folder)\n",
    "  dataset = np.ndarray(shape=(len(image_files), image_size, image_size),\n",
    "                         dtype=np.float32)\n",
    "  print(folder)\n",
    "  num_images = 0\n",
    "  for image in image_files:\n",
    "    image_file = os.path.join(folder, image)\n",
    "    try:\n",
    "      image_data = (ndimage.imread(image_file).astype(float) - \n",
    "                    pixel_depth / 2) / pixel_depth\n",
    "      if image_data.shape != (image_size, image_size):\n",
    "        raise Exception('Unexpected image shape: %s' % str(image_data.shape))\n",
    "      dataset[num_images, :, :] = image_data\n",
    "      num_images = num_images + 1\n",
    "    except IOError as e:\n",
    "      print('Could not read:', image_file, ':', e, '- it\\'s ok, skipping.')\n",
    "    \n",
    "  dataset = dataset[0:num_images, :, :]\n",
    "  if num_images < min_num_images:\n",
    "    raise Exception('Many fewer images than expected: %d < %d' %\n",
    "                    (num_images, min_num_images))\n",
    "    \n",
    "  print('Full dataset tensor:', dataset.shape)\n",
    "  print('Mean:', np.mean(dataset))\n",
    "  print('Standard deviation:', np.std(dataset))\n",
    "  return dataset\n",
    "        \n",
    "def maybe_pickle(data_folders, min_num_images_per_class, force=False):\n",
    "  dataset_names = []\n",
    "  for folder in data_folders:\n",
    "    set_filename = folder + '.pickle'\n",
    "    dataset_names.append(set_filename)\n",
    "    if os.path.exists(set_filename) and not force:\n",
    "      # You may override by setting force=True.\n",
    "      print('%s already present - Skipping pickling.' % set_filename)\n",
    "    else:\n",
    "      print('Pickling %s.' % set_filename)\n",
    "      dataset = load_letter(folder, min_num_images_per_class)\n",
    "      try:\n",
    "        with open(set_filename, 'wb') as f:\n",
    "          pickle.dump(dataset, f, pickle.HIGHEST_PROTOCOL)\n",
    "      except Exception as e:\n",
    "        print('Unable to save data to', set_filename, ':', e)\n",
    "  \n",
    "  return dataset_names\n",
    "\n",
    "train_datasets = maybe_pickle(train_folders, 45000)\n",
    "test_datasets = maybe_pickle(test_folders, 1800)"
   ]
  },
  {
   "cell_type": "markdown",
   "metadata": {
    "colab_type": "text",
    "deletable": true,
    "editable": true,
    "id": "vUdbskYE2d87"
   },
   "source": [
    "---\n",
    "Problem 2\n",
    "---------\n",
    "\n",
    "Let's verify that the data still looks good. Displaying a sample of the labels and images from the ndarray. Hint: you can use matplotlib.pyplot.\n",
    "\n",
    "---"
   ]
  },
  {
   "cell_type": "code",
   "execution_count": 42,
   "metadata": {
    "collapsed": false
   },
   "outputs": [
    {
     "data": {
      "text/plain": [
       "28"
      ]
     },
     "execution_count": 42,
     "metadata": {},
     "output_type": "execute_result"
    }
   ],
   "source": [
    "test_datasets\n",
    "a=pickle.load(open(train_datasets[9],'rb'))\n",
    "a.shape[1]\n",
    "\n"
   ]
  },
  {
   "cell_type": "markdown",
   "metadata": {
    "colab_type": "text",
    "deletable": true,
    "editable": true,
    "id": "cYznx5jUwzoO"
   },
   "source": [
    "---\n",
    "Problem 3\n",
    "---------\n",
    "Another check: we expect the data to be balanced across classes. Verify that.\n",
    "\n",
    "---"
   ]
  },
  {
   "cell_type": "code",
   "execution_count": 92,
   "metadata": {
    "collapsed": false
   },
   "outputs": [
    {
     "name": "stdout",
     "output_type": "stream",
     "text": [
      "52909\n",
      "okay: notMNIST_large/A.pickle\n",
      "0.44312\n",
      "okay: notMNIST_large/A.pickle\n",
      "okay: notMNIST_large/A.pickle\n",
      "52911\n",
      "okay: notMNIST_large/B.pickle\n",
      "0.454491\n",
      "okay: notMNIST_large/B.pickle\n",
      "okay: notMNIST_large/B.pickle\n",
      "52912\n",
      "okay: notMNIST_large/C.pickle\n",
      "0.439806\n",
      "okay: notMNIST_large/C.pickle\n",
      "okay: notMNIST_large/C.pickle\n",
      "52911\n",
      "okay: notMNIST_large/D.pickle\n",
      "0.455647\n",
      "okay: notMNIST_large/D.pickle\n",
      "okay: notMNIST_large/D.pickle\n",
      "52912\n",
      "okay: notMNIST_large/E.pickle\n",
      "0.452941\n",
      "okay: notMNIST_large/E.pickle\n",
      "okay: notMNIST_large/E.pickle\n",
      "52912\n",
      "okay: notMNIST_large/F.pickle\n",
      "0.447089\n",
      "okay: notMNIST_large/F.pickle\n",
      "okay: notMNIST_large/F.pickle\n",
      "52912\n",
      "okay: notMNIST_large/G.pickle\n",
      "0.44624\n",
      "okay: notMNIST_large/G.pickle\n",
      "okay: notMNIST_large/G.pickle\n",
      "52912\n",
      "okay: notMNIST_large/H.pickle\n",
      "0.454231\n",
      "okay: notMNIST_large/H.pickle\n",
      "okay: notMNIST_large/H.pickle\n",
      "52912\n",
      "okay: notMNIST_large/I.pickle\n",
      "0.468899\n",
      "okay: notMNIST_large/I.pickle\n",
      "okay: notMNIST_large/I.pickle\n",
      "52911\n",
      "okay: notMNIST_large/J.pickle\n",
      "0.443657\n",
      "okay: notMNIST_large/J.pickle\n",
      "okay: notMNIST_large/J.pickle\n"
     ]
    }
   ],
   "source": [
    "def check_mean_std_num(datasets): \n",
    "    for letter_class_file in datasets:\n",
    "        with open(letter_class_file,'rb') as opn:\n",
    "            letter_class=pickle.load(opn)\n",
    "            print(letter_class.shape[0])\n",
    "            if not(letter_class.shape[0] in range(50000,60000)):\n",
    "                print('something is wrong in '+letter_class_file)  \n",
    "            else:\n",
    "                print('okay: '+letter_class_file)\n",
    "            print(np.std(letter_class))    \n",
    "            if not(0.43<np.std(letter_class)<0.5) :\n",
    "                print('something is wrong in '+letter_class_file)  \n",
    "            else:\n",
    "                print('okay: '+letter_class_file)\n",
    "            if not(-0.16<np.mean(letter_class)<0.06) :\n",
    "                print('something is wrong in '+letter_class_file)  \n",
    "            else:\n",
    "                print('okay: '+letter_class_file)   \n",
    "\n",
    "check_mean_std_num(train_datasets)"
   ]
  },
  {
   "cell_type": "markdown",
   "metadata": {
    "colab_type": "text",
    "deletable": true,
    "editable": true,
    "id": "LA7M7K22ynCt"
   },
   "source": [
    "Merge and prune the training data as needed. Depending on your computer setup, you might not be able to fit it all in memory, and you can tune `train_size` as needed. The labels will be stored into a separate array of integers 0 through 9.\n",
    "\n",
    "Also create a validation dataset for hyperparameter tuning."
   ]
  },
  {
   "cell_type": "code",
   "execution_count": 93,
   "metadata": {
    "cellView": "both",
    "colab": {
     "autoexec": {
      "startup": false,
      "wait_interval": 0
     },
     "output_extras": [
      {
       "item_id": 1
      }
     ]
    },
    "colab_type": "code",
    "collapsed": false,
    "deletable": true,
    "editable": true,
    "executionInfo": {
     "elapsed": 411281,
     "status": "ok",
     "timestamp": 1444485897869,
     "user": {
      "color": "#1FA15D",
      "displayName": "Vincent Vanhoucke",
      "isAnonymous": false,
      "isMe": true,
      "permissionId": "05076109866853157986",
      "photoUrl": "//lh6.googleusercontent.com/-cCJa7dTDcgQ/AAAAAAAAAAI/AAAAAAAACgw/r2EZ_8oYer4/s50-c-k-no/photo.jpg",
      "sessionId": "2a0a5e044bb03b66",
      "userId": "102167687554210253930"
     },
     "user_tz": 420
    },
    "id": "s3mWgZLpyuzq",
    "outputId": "8af66da6-902d-4719-bedc-7c9fb7ae7948"
   },
   "outputs": [
    {
     "name": "stdout",
     "output_type": "stream",
     "text": [
      "Training: (200000, 28, 28) (200000,)\n",
      "Validation: (10000, 28, 28) (10000,)\n",
      "Testing: (10000, 28, 28) (10000,)\n"
     ]
    }
   ],
   "source": [
    "def make_arrays(nb_rows, img_size):\n",
    "  if nb_rows:\n",
    "    dataset = np.ndarray((nb_rows, img_size, img_size), dtype=np.float32)\n",
    "    labels = np.ndarray(nb_rows, dtype=np.int32)\n",
    "  else:\n",
    "    dataset, labels = None, None\n",
    "  return dataset, labels\n",
    "\n",
    "def merge_datasets(pickle_files, train_size, valid_size=0):\n",
    "  num_classes = len(pickle_files)\n",
    "  valid_dataset, valid_labels = make_arrays(valid_size, image_size)\n",
    "  train_dataset, train_labels = make_arrays(train_size, image_size)\n",
    "  vsize_per_class = valid_size // num_classes\n",
    "  tsize_per_class = train_size // num_classes\n",
    "    \n",
    "  start_v, start_t = 0, 0\n",
    "  end_v, end_t = vsize_per_class, tsize_per_class\n",
    "  end_l = vsize_per_class+tsize_per_class\n",
    "  for label, pickle_file in enumerate(pickle_files):       \n",
    "    try:\n",
    "      with open(pickle_file, 'rb') as f:\n",
    "        letter_set = pickle.load(f)\n",
    "        # let's shuffle the letters to have random validation and training set\n",
    "        np.random.shuffle(letter_set)\n",
    "        if valid_dataset is not None:\n",
    "          valid_letter = letter_set[:vsize_per_class, :, :]\n",
    "          valid_dataset[start_v:end_v, :, :] = valid_letter\n",
    "          valid_labels[start_v:end_v] = label\n",
    "          start_v += vsize_per_class\n",
    "          end_v += vsize_per_class\n",
    "                    \n",
    "        train_letter = letter_set[vsize_per_class:end_l, :, :]\n",
    "        train_dataset[start_t:end_t, :, :] = train_letter\n",
    "        train_labels[start_t:end_t] = label\n",
    "        start_t += tsize_per_class\n",
    "        end_t += tsize_per_class\n",
    "    except Exception as e:\n",
    "      print('Unable to process data from', pickle_file, ':', e)\n",
    "      raise\n",
    "    \n",
    "  return valid_dataset, valid_labels, train_dataset, train_labels\n",
    "            \n",
    "            \n",
    "train_size = 200000\n",
    "valid_size = 10000\n",
    "test_size = 10000\n",
    "\n",
    "valid_dataset, valid_labels, train_dataset, train_labels = merge_datasets(\n",
    "  train_datasets, train_size, valid_size)\n",
    "_, _, test_dataset, test_labels = merge_datasets(test_datasets, test_size)\n",
    "\n",
    "print('Training:', train_dataset.shape, train_labels.shape)\n",
    "print('Validation:', valid_dataset.shape, valid_labels.shape)\n",
    "print('Testing:', test_dataset.shape, test_labels.shape)"
   ]
  },
  {
   "cell_type": "markdown",
   "metadata": {
    "colab_type": "text",
    "deletable": true,
    "editable": true,
    "id": "GPTCnjIcyuKN"
   },
   "source": [
    "Next, we'll randomize the data. It's important to have the labels well shuffled for the training and test distributions to match."
   ]
  },
  {
   "cell_type": "code",
   "execution_count": 94,
   "metadata": {
    "cellView": "both",
    "colab": {
     "autoexec": {
      "startup": false,
      "wait_interval": 0
     }
    },
    "colab_type": "code",
    "collapsed": true,
    "deletable": true,
    "editable": true,
    "id": "6WZ2l2tN2zOL"
   },
   "outputs": [],
   "source": [
    "def randomize(dataset, labels):\n",
    "  permutation = np.random.permutation(labels.shape[0])\n",
    "  shuffled_dataset = dataset[permutation,:,:]\n",
    "  shuffled_labels = labels[permutation]\n",
    "  return shuffled_dataset, shuffled_labels\n",
    "train_dataset, train_labels = randomize(train_dataset, train_labels)\n",
    "test_dataset, test_labels = randomize(test_dataset, test_labels)\n",
    "valid_dataset, valid_labels = randomize(valid_dataset, valid_labels)"
   ]
  },
  {
   "cell_type": "markdown",
   "metadata": {
    "colab_type": "text",
    "deletable": true,
    "editable": true,
    "id": "puDUTe6t6USl"
   },
   "source": [
    "---\n",
    "Problem 4\n",
    "---------\n",
    "Convince yourself that the data is still good after shuffling!\n",
    "\n",
    "---"
   ]
  },
  {
   "cell_type": "markdown",
   "metadata": {
    "colab_type": "text",
    "deletable": true,
    "editable": true,
    "id": "tIQJaJuwg5Hw"
   },
   "source": [
    "Finally, let's save the data for later reuse:"
   ]
  },
  {
   "cell_type": "code",
   "execution_count": 0,
   "metadata": {
    "cellView": "both",
    "colab": {
     "autoexec": {
      "startup": false,
      "wait_interval": 0
     }
    },
    "colab_type": "code",
    "collapsed": true,
    "deletable": true,
    "editable": true,
    "id": "QiR_rETzem6C"
   },
   "outputs": [],
   "source": [
    "pickle_file = os.path.join(data_root, 'notMNIST.pickle')\n",
    "\n",
    "try:\n",
    "  f = open(pickle_file, 'wb')\n",
    "  save = {\n",
    "    'train_dataset': train_dataset,\n",
    "    'train_labels': train_labels,\n",
    "    'valid_dataset': valid_dataset,\n",
    "    'valid_labels': valid_labels,\n",
    "    'test_dataset': test_dataset,\n",
    "    'test_labels': test_labels,\n",
    "    }\n",
    "  pickle.dump(save, f, pickle.HIGHEST_PROTOCOL)\n",
    "  f.close()\n",
    "except Exception as e:\n",
    "  print('Unable to save data to', pickle_file, ':', e)\n",
    "  raise"
   ]
  },
  {
   "cell_type": "code",
   "execution_count": 0,
   "metadata": {
    "cellView": "both",
    "colab": {
     "autoexec": {
      "startup": false,
      "wait_interval": 0
     },
     "output_extras": [
      {
       "item_id": 1
      }
     ]
    },
    "colab_type": "code",
    "collapsed": false,
    "deletable": true,
    "editable": true,
    "executionInfo": {
     "elapsed": 413065,
     "status": "ok",
     "timestamp": 1444485899688,
     "user": {
      "color": "#1FA15D",
      "displayName": "Vincent Vanhoucke",
      "isAnonymous": false,
      "isMe": true,
      "permissionId": "05076109866853157986",
      "photoUrl": "//lh6.googleusercontent.com/-cCJa7dTDcgQ/AAAAAAAAAAI/AAAAAAAACgw/r2EZ_8oYer4/s50-c-k-no/photo.jpg",
      "sessionId": "2a0a5e044bb03b66",
      "userId": "102167687554210253930"
     },
     "user_tz": 420
    },
    "id": "hQbLjrW_iT39",
    "outputId": "b440efc6-5ee1-4cbc-d02d-93db44ebd956"
   },
   "outputs": [
    {
     "name": "stdout",
     "output_type": "stream",
     "text": [
      "Compressed pickle size: 718193801\n"
     ]
    }
   ],
   "source": [
    "statinfo = os.stat(pickle_file)\n",
    "print('Compressed pickle size:', statinfo.st_size)"
   ]
  },
  {
   "cell_type": "markdown",
   "metadata": {
    "colab_type": "text",
    "deletable": true,
    "editable": true,
    "id": "gE_cRAQB33lk"
   },
   "source": [
    "---\n",
    "Problem 5\n",
    "---------\n",
    "\n",
    "By construction, this dataset might contain a lot of overlapping samples, including training data that's also contained in the validation and test set! Overlap between training and test can skew the results if you expect to use your model in an environment where there is never an overlap, but are actually ok if you expect to see training samples recur when you use it.\n",
    "Measure how much overlap there is between training, validation and test samples.\n",
    "\n",
    "Optional questions:\n",
    "- What about near duplicates between datasets? (images that are almost identical)\n",
    "- Create a sanitized validation and test set, and compare your accuracy on those in subsequent assignments.\n",
    "---"
   ]
  },
  {
   "cell_type": "markdown",
   "metadata": {
    "colab_type": "text",
    "deletable": true,
    "editable": true,
    "id": "L8oww1s4JMQx"
   },
   "source": [
    "---\n",
    "Problem 6\n",
    "---------\n",
    "\n",
    "Let's get an idea of what an off-the-shelf classifier can give you on this data. It's always good to check that there is something to learn, and that it's a problem that is not so trivial that a canned solution solves it.\n",
    "\n",
    "Train a simple model on this data using 50, 100, 1000 and 5000 training samples. Hint: you can use the LogisticRegression model from sklearn.linear_model.\n",
    "\n",
    "Optional question: train an off-the-shelf model on all the data!\n",
    "\n",
    "---"
   ]
  }
 ],
 "metadata": {
  "colab": {
   "default_view": {},
   "name": "1_notmnist.ipynb",
   "provenance": [],
   "version": "0.3.2",
   "views": {}
  },
  "kernelspec": {
   "display_name": "polymake",
   "language": "polymake",
   "name": "polymake"
  },
  "language_info": {
   "codemirror_mode": "perl",
   "file_extension": ".pl",
   "mimetype": "text/x-polymake",
   "name": "polymake"
  }
 },
 "nbformat": 4,
 "nbformat_minor": 0
}
